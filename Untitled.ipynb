{
 "cells": [
  {
   "cell_type": "code",
   "execution_count": null,
   "metadata": {},
   "outputs": [],
   "source": [
    "import matplotlib.pyplot as plt\n",
    "import pandas as pd\n",
    "import numpy as np\n",
    "import os\n",
    "\n",
    "crime_2015 = pd.read_csv('CSVs/CrimeData-2015.csv')\n",
    "crime_2018 = pd.read_csv('CSVs/CrimeData-2018.csv')\n",
    "pdx_walk_df = pd.read_csv('CSVs/PDX_Neighborhood_Walkability.csv')\n",
    "zip_walk_df = pd.read_csv('CSVs/zip_import.csv')\n",
    "\n",
    "crime_2015 = crime_2015.loc[crime_2015['Neighborhood'].isnull() == False]\n",
    "crime_2018 = crime_2018.loc[crime_2018['Neighborhood'].isnull() == False]\n",
    "\n",
    "gcrime_2015 = crime_2015.groupby(['Neighborhood']).size().reset_index(name='OffenseCount2015')\n",
    "gcrime_2018 = crime_2018.groupby(['Neighborhood']).size().reset_index(name='OffenseCount2018')\n",
    "\n",
    "ccrime_df = pd.merge(gcrime_2015, gcrime_2018, how='inner', on='Neighborhood')\n",
    "\n",
    "ccrime_df.iloc[ccrime_df.loc[ccrime_df['Neighborhood'] == 'Old Town/Chinatown'].index, 0] = 'Old Town Chinatown'\n",
    "ccrime_df.iloc[ccrime_df.loc[ccrime_df['Neighborhood'] == 'Lloyd'].index, 0] = 'Lloyd District'\n",
    "ccrime_df.iloc[ccrime_df.loc[ccrime_df['Neighborhood'] == 'Mt Scott-Arleta'].index, 0] = 'Mt. Scott-Arleta'\n",
    "ccrime_df.iloc[ccrime_df.loc[ccrime_df['Neighborhood'] == 'Mt Tabor'].index, 0] = 'Mt. Tabor'\n",
    "ccrime_df.iloc[ccrime_df.loc[ccrime_df['Neighborhood'] == 'St Johns'].index, 0] = 'St. Johns'\n",
    "ccrime_df.iloc[ccrime_df.loc[ccrime_df['Neighborhood'] == 'Northwest'].index, 0] = 'Northwest District'\n",
    "ccrime_df.iloc[ccrime_df.loc[ccrime_df['Neighborhood'].str.contains('Buckman')].index, 0] = 'Buckman'\n",
    "\n",
    "pdx_crime_df = pd.merge(ccrime_df, pdx_walk_df, how='outer', left_on='Neighborhood', right_on='Name')\n",
    "cc_walk_df = pdx_crime_df.loc[(pdx_crime_df['Name'].isnull() == False)][['Name', 'Population', 'OffenseCount2015', 'OffenseCount2018']]\n",
    "\n",
    "cc_vs_walk = pd.merge(cc_walk_df, zip_walk_df, how='outer', left_on='Name', right_on='name')\n",
    "cc_vs_walk = cc_vs_walk[['Name', 'Walk Score', 'OffenseCount2015', 'OffenseCount2018', 'Population', 'lat', 'lng', 'Zipcode']]\n",
    "\n",
    "cc_vs_walk = cc_vs_walk.loc[cc_vs_walk['Zipcode'].isnull() == False].reset_index(drop=True)\n",
    "cc_vs_walk['Zipcode'] = cc_vs_walk['Zipcode'].astype(int)\n",
    "\n",
    "cc_vs_walk"
   ]
  },
  {
   "cell_type": "code",
   "execution_count": null,
   "metadata": {},
   "outputs": [],
   "source": [
    "file = open('CSVs/crime_vs_walkscore.csv', 'w')\n",
    "file.truncate()\n",
    "file.close()\n",
    "\n",
    "cc_vs_walk.to_csv('CSVs/crime_vs_walkscore.csv', index=False, header=True)"
   ]
  }
 ],
 "metadata": {
  "kernelspec": {
   "display_name": "Python 3",
   "language": "python",
   "name": "python3"
  },
  "language_info": {
   "codemirror_mode": {
    "name": "ipython",
    "version": 3
   },
   "file_extension": ".py",
   "mimetype": "text/x-python",
   "name": "python",
   "nbconvert_exporter": "python",
   "pygments_lexer": "ipython3",
   "version": "3.6.10"
  }
 },
 "nbformat": 4,
 "nbformat_minor": 4
}
