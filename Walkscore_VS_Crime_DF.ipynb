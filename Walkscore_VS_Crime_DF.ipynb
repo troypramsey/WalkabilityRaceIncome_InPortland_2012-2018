{
 "cells": [
  {
   "cell_type": "code",
   "execution_count": 1,
   "metadata": {},
   "outputs": [
    {
     "data": {
      "text/html": [
       "<div>\n",
       "<style scoped>\n",
       "    .dataframe tbody tr th:only-of-type {\n",
       "        vertical-align: middle;\n",
       "    }\n",
       "\n",
       "    .dataframe tbody tr th {\n",
       "        vertical-align: top;\n",
       "    }\n",
       "\n",
       "    .dataframe thead th {\n",
       "        text-align: right;\n",
       "    }\n",
       "</style>\n",
       "<table border=\"1\" class=\"dataframe\">\n",
       "  <thead>\n",
       "    <tr style=\"text-align: right;\">\n",
       "      <th></th>\n",
       "      <th>name</th>\n",
       "      <th>lat</th>\n",
       "      <th>lng</th>\n",
       "      <th>Zipcode</th>\n",
       "      <th>Walk Score</th>\n",
       "    </tr>\n",
       "  </thead>\n",
       "  <tbody>\n",
       "    <tr>\n",
       "      <th>0</th>\n",
       "      <td>Cathedral Park</td>\n",
       "      <td>45.576418</td>\n",
       "      <td>-122.747741</td>\n",
       "      <td>97210</td>\n",
       "      <td>79</td>\n",
       "    </tr>\n",
       "    <tr>\n",
       "      <th>1</th>\n",
       "      <td>University Park</td>\n",
       "      <td>45.574956</td>\n",
       "      <td>-122.707959</td>\n",
       "      <td>97217</td>\n",
       "      <td>53</td>\n",
       "    </tr>\n",
       "    <tr>\n",
       "      <th>2</th>\n",
       "      <td>Piedmont</td>\n",
       "      <td>45.586587</td>\n",
       "      <td>-122.675450</td>\n",
       "      <td>97217</td>\n",
       "      <td>72</td>\n",
       "    </tr>\n",
       "    <tr>\n",
       "      <th>3</th>\n",
       "      <td>Woodlawn</td>\n",
       "      <td>45.566326</td>\n",
       "      <td>-122.643516</td>\n",
       "      <td>97211</td>\n",
       "      <td>74</td>\n",
       "    </tr>\n",
       "    <tr>\n",
       "      <th>4</th>\n",
       "      <td>Cully</td>\n",
       "      <td>45.548290</td>\n",
       "      <td>-122.614712</td>\n",
       "      <td>97213</td>\n",
       "      <td>57</td>\n",
       "    </tr>\n",
       "    <tr>\n",
       "      <th>...</th>\n",
       "      <td>...</td>\n",
       "      <td>...</td>\n",
       "      <td>...</td>\n",
       "      <td>...</td>\n",
       "      <td>...</td>\n",
       "    </tr>\n",
       "    <tr>\n",
       "      <th>66</th>\n",
       "      <td>Goose Hollow</td>\n",
       "      <td>45.519412</td>\n",
       "      <td>-122.728707</td>\n",
       "      <td>97210</td>\n",
       "      <td>93</td>\n",
       "    </tr>\n",
       "    <tr>\n",
       "      <th>67</th>\n",
       "      <td>St. Johns</td>\n",
       "      <td>45.620100</td>\n",
       "      <td>-122.716724</td>\n",
       "      <td>97203</td>\n",
       "      <td>64</td>\n",
       "    </tr>\n",
       "    <tr>\n",
       "      <th>68</th>\n",
       "      <td>Portsmouth</td>\n",
       "      <td>45.584724</td>\n",
       "      <td>-122.707946</td>\n",
       "      <td>97217</td>\n",
       "      <td>63</td>\n",
       "    </tr>\n",
       "    <tr>\n",
       "      <th>69</th>\n",
       "      <td>Northwest District</td>\n",
       "      <td>45.602392</td>\n",
       "      <td>-122.657040</td>\n",
       "      <td>97217</td>\n",
       "      <td>93</td>\n",
       "    </tr>\n",
       "    <tr>\n",
       "      <th>70</th>\n",
       "      <td>East Columbia</td>\n",
       "      <td>45.599479</td>\n",
       "      <td>-122.660154</td>\n",
       "      <td>97211</td>\n",
       "      <td>16</td>\n",
       "    </tr>\n",
       "  </tbody>\n",
       "</table>\n",
       "<p>71 rows × 5 columns</p>\n",
       "</div>"
      ],
      "text/plain": [
       "                  name        lat         lng  Zipcode  Walk Score\n",
       "0       Cathedral Park  45.576418 -122.747741    97210          79\n",
       "1      University Park  45.574956 -122.707959    97217          53\n",
       "2             Piedmont  45.586587 -122.675450    97217          72\n",
       "3             Woodlawn  45.566326 -122.643516    97211          74\n",
       "4                Cully  45.548290 -122.614712    97213          57\n",
       "..                 ...        ...         ...      ...         ...\n",
       "66        Goose Hollow  45.519412 -122.728707    97210          93\n",
       "67           St. Johns  45.620100 -122.716724    97203          64\n",
       "68          Portsmouth  45.584724 -122.707946    97217          63\n",
       "69  Northwest District  45.602392 -122.657040    97217          93\n",
       "70       East Columbia  45.599479 -122.660154    97211          16\n",
       "\n",
       "[71 rows x 5 columns]"
      ]
     },
     "execution_count": 1,
     "metadata": {},
     "output_type": "execute_result"
    }
   ],
   "source": [
    "import pandas as pd\n",
    "import matplotlib.pyplot as plt\n",
    "import numpy as np\n",
    "from scipy.stats import linregress\n",
    "from sklearn import datasets\n",
    "\n",
    "crime_2015 = pd.read_csv('CSVs/CrimeData-2015.csv')\n",
    "crime_2018 = pd.read_csv('CSVs/CrimeData-2018.csv')\n",
    "pdx_walk_df = pd.read_csv('CSVs/PDX_Neighborhood_Walkability.csv')\n",
    "zip_walk_df = pd.read_csv('CSVs/zip_import.csv')\n",
    "\n",
    "crime_2015 = crime_2015.loc[crime_2015['Neighborhood'].isnull() == False]\n",
    "crime_2018 = crime_2018.loc[crime_2018['Neighborhood'].isnull() == False]\n",
    "\n",
    "gcrime_2015 = crime_2015.groupby(['Neighborhood']).size().reset_index(name='OffenseCount2015')\n",
    "gcrime_2018 = crime_2018.groupby(['Neighborhood']).size().reset_index(name='OffenseCount2018')\n",
    "\n",
    "ccrime_df = pd.merge(gcrime_2015, gcrime_2018, how='inner', on='Neighborhood')\n",
    "\n",
    "ccrime_df.iloc[ccrime_df.loc[ccrime_df['Neighborhood'] == 'Old Town/Chinatown'].index, 0] = 'Old Town Chinatown'\n",
    "ccrime_df.iloc[ccrime_df.loc[ccrime_df['Neighborhood'] == 'Lloyd'].index, 0] = 'Lloyd District'\n",
    "ccrime_df.iloc[ccrime_df.loc[ccrime_df['Neighborhood'] == 'Mt Scott-Arleta'].index, 0] = 'Mt. Scott-Arleta'\n",
    "ccrime_df.iloc[ccrime_df.loc[ccrime_df['Neighborhood'] == 'Mt Tabor'].index, 0] = 'Mt. Tabor'\n",
    "ccrime_df.iloc[ccrime_df.loc[ccrime_df['Neighborhood'] == 'St Johns'].index, 0] = 'St. Johns'\n",
    "ccrime_df.iloc[ccrime_df.loc[ccrime_df['Neighborhood'] == 'Northwest'].index, 0] = 'Northwest District'\n",
    "ccrime_df.iloc[ccrime_df.loc[ccrime_df['Neighborhood'].str.contains('Buckman')].index, 0] = 'Buckman'\n",
    "\n",
    "pdx_crime_df = pd.merge(ccrime_df, pdx_walk_df, how='outer', left_on='Neighborhood', right_on='Name')\n",
    "cc_walk_df = pdx_crime_df.loc[(pdx_crime_df['Name'].isnull() == False)][['Name', 'Population', 'OffenseCount2015', 'OffenseCount2018']]\n",
    "\n",
    "cc_vs_walk = pd.merge(cc_walk_df, zip_walk_df, how='outer', left_on='Name', right_on='name')\n",
    "cc_vs_walk = cc_vs_walk[['Name', 'Walk Score', 'OffenseCount2015', 'OffenseCount2018', 'Population', 'lat', 'lng', 'Zipcode']]\n",
    "\n",
    "cc_vs_walk = cc_vs_walk.loc[cc_vs_walk['Zipcode'].isnull() == False].reset_index(drop=True)\n",
    "cc_vs_walk['Zipcode'] = cc_vs_walk['Zipcode'].astype(int)\n",
    "cc_vs_walk['Walk Score'] = cc_vs_walk['Walk Score'].astype(int)\n",
    "\n",
    "zip_walk_df"
   ]
  },
  {
   "cell_type": "code",
   "execution_count": 2,
   "metadata": {},
   "outputs": [],
   "source": [
    "# Write to csv\n",
    "file = open('CSVs/crime_vs_walkscore.csv', 'w')\n",
    "file.truncate()\n",
    "file.close()\n",
    "\n",
    "cc_vs_walk.to_csv('CSVs/crime_vs_walkscore.csv', index=False, header=True)"
   ]
  },
  {
   "cell_type": "code",
   "execution_count": 3,
   "metadata": {},
   "outputs": [
    {
     "data": {
      "text/plain": [
       "Text(7, 1137, 'r=0.31')"
      ]
     },
     "execution_count": 3,
     "metadata": {},
     "output_type": "execute_result"
    },
    {
     "data": {
      "image/png": "[encoded data removed]",
      "text/plain": [
       "<Figure size 432x288 with 1 Axes>"
      ]
     },
     "metadata": {
      "needs_background": "light"
     },
     "output_type": "display_data"
    }
   ],
   "source": [
    "cvw = pd.read_csv('CSVs/crime_vs_walkscore.csv')\n",
    "\n",
    "cvw['Change in Crime'] = pd.DataFrame(cvw['OffenseCount2018'] - cvw['OffenseCount2015'])\n",
    "crime_walk_df = cvw.drop(columns=['Zipcode', 'OffenseCount2015', 'OffenseCount2018', 'lat', 'lng'])\n",
    "\n",
    "crime_walk_df.sort_values(by='Walk Score')\n",
    "crime_walk_df['Population'] = crime_walk_df['Population'].str.replace(',','').astype(float)\n",
    "\n",
    "x_values = crime_walk_df['Walk Score']\n",
    "y_values = crime_walk_df['Change in Crime']\n",
    "z_values = crime_walk_df['Population']\n",
    "\n",
    "plt.scatter(x=x_values, y=y_values, s=z_values/(z_values.min()/2))\n",
    "plt.xlabel('Walk Score', fontsize=12.0)\n",
    "plt.ylabel('Changes in Crime', fontsize=12.0)\n",
    "plt.title('Changes in Crime VS Walk Score with Population')\n",
    "\n",
    "(slope, intercept, rvalue, pvalue, stderr) = linregress(x_values, y_values)\n",
    "\n",
    "regress_values = x_values * slope + intercept\n",
    "line_eq = 'y = ' + str(round(slope,2)) + 'x + ' + str(round(intercept,2))\n",
    "plt.plot(x_values, regress_values, color='orange', linestyle='solid', alpha=.75)\n",
    "plt.annotate(f'r={round(rvalue, 2)}', (x_values.min()+2, y_values.max()-100), fontsize=14,color='teal')"
   ]
  },
  {
   "cell_type": "code",
   "execution_count": 4,
   "metadata": {},
   "outputs": [
    {
     "name": "stderr",
     "output_type": "stream",
     "text": [
      "C:\\Users\\Rahil\\anaconda3\\lib\\site-packages\\ipykernel_launcher.py:3: SettingWithCopyWarning: \n",
      "A value is trying to be set on a copy of a slice from a DataFrame.\n",
      "Try using .loc[row_indexer,col_indexer] = value instead\n",
      "\n",
      "See the caveats in the documentation: https://pandas.pydata.org/pandas-docs/stable/user_guide/indexing.html#returning-a-view-versus-a-copy\n",
      "  This is separate from the ipykernel package so we can avoid doing imports until\n"
     ]
    },
    {
     "data": {
      "text/plain": [
       "Text(7, 1137, 'r=0.3')"
      ]
     },
     "execution_count": 4,
     "metadata": {},
     "output_type": "execute_result"
    },
    {
     "data": {
      "image/png": "[encoded data removed]",
      "text/plain": [
       "<Figure size 432x288 with 1 Axes>"
      ]
     },
     "metadata": {
      "needs_background": "light"
     },
     "output_type": "display_data"
    }
   ],
   "source": [
    "income_by_nh = pd.read_csv('CSVs/income_by_neighborhood.csv')\n",
    "join_income = income_by_nh[['name', 'Median Income 2012', 'Median Income 2018']]\n",
    "join_income['Change in Income'] = pd.DataFrame(join_income['Median Income 2018'] - join_income['Median Income 2012'])\n",
    "\n",
    "crime_vs_income = pd.merge(cvw, join_income, how='left', left_on='Name', right_on='name')\n",
    "clean_crime_vs_income = crime_vs_income[['Name', 'Walk Score', 'Change in Income', 'Change in Crime']]\n",
    "\n",
    "x_values = clean_crime_vs_income['Walk Score']\n",
    "y_values = clean_crime_vs_income['Change in Crime']\n",
    "z_values = clean_crime_vs_income['Change in Income']\n",
    "\n",
    "plt.scatter(x=x_values, y=y_values, s=z_values/(z_values.min()/2))\n",
    "plt.xlabel('Walk Score', fontsize=12.0)\n",
    "plt.ylabel('Changes in Crime', fontsize=12.0)\n",
    "plt.title('Changes in Crime VS Walk Score with Income')\n",
    "\n",
    "(slope, intercept, rvalue, pvalue, stderr) = linregress(x_values, y_values)\n",
    "\n",
    "regress_values = x_values * slope + intercept\n",
    "line_eq = 'y = ' + str(round(slope,2)) + 'x + ' + str(round(intercept,2))\n",
    "plt.plot(x_values, regress_values, color='orange', linestyle='solid', alpha=.75)\n",
    "plt.annotate(f'r={round(rvalue, 2)}', (x_values.min()+2, y_values.max()-100), fontsize=14,color='teal')"
   ]
  }
 ],
 "metadata": {
  "kernelspec": {
   "display_name": "Python 3",
   "language": "python",
   "name": "python3"
  },
  "language_info": {
   "codemirror_mode": {
    "name": "ipython",
    "version": 3
   },
   "file_extension": ".py",
   "mimetype": "text/x-python",
   "name": "python",
   "nbconvert_exporter": "python",
   "pygments_lexer": "ipython3",
   "version": "3.6.10"
  }
 },
 "nbformat": 4,
 "nbformat_minor": 4
}
