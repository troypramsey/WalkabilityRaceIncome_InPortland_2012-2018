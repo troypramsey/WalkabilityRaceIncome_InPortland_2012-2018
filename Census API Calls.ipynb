{
 "cells": [
  {
   "cell_type": "code",
   "execution_count": 84,
   "metadata": {},
   "outputs": [],
   "source": [
    "import pandas as pd\n",
    "import requests\n",
    "import json\n",
    "from config import Census_api_key\n",
    "from census import Census"
   ]
  },
  {
   "cell_type": "code",
   "execution_count": 85,
   "metadata": {},
   "outputs": [],
   "source": [
    "\n",
    "long = []\n",
    "lat = []\n",
    "zipcode =  \"97201\"#make this a list of our indexed zipcodes or make this a df of our zips and neighborhoods\n",
    "variables = [\"median_income\"]"
   ]
  },
  {
   "cell_type": "code",
   "execution_count": 86,
   "metadata": {},
   "outputs": [
    {
     "ename": "SyntaxError",
     "evalue": "invalid syntax (<ipython-input-86-70c090c3c071>, line 5)",
     "output_type": "error",
     "traceback": [
      "\u001b[0;36m  File \u001b[0;32m\"<ipython-input-86-70c090c3c071>\"\u001b[0;36m, line \u001b[0;32m5\u001b[0m\n\u001b[0;31m    ziploop = #for loop of zipcodes\u001b[0m\n\u001b[0m                                   ^\u001b[0m\n\u001b[0;31mSyntaxError\u001b[0m\u001b[0;31m:\u001b[0m invalid syntax\n"
     ]
    }
   ],
   "source": [
    "# zip_base_url = f\"https://api.census.gov/data/2018/zbp?get={variables}&for={zipcode}\"\n",
    "# base_url = f\"api.census.gov/data/2018/acs/acs1?get={NAME},group(B01001)&for=us:1&key={Census_api_key}\"\n",
    "#Example Call: api.census.gov/data/2018/acs/acs1/subject?get=NAME,group(S0101)&for=us:1&key=YOUR_KEY_GOES_HERE\n",
    "Median_Income = B06011_001E\n",
    "Household Income = B19013_001E\n",
    "zipcodes_data = \"\"\n",
    "ziploop = \" \"#for loop of zipcodes\n",
    "census_data = c.acs5.get((\"NAME\", \"B19013_001E\", \"B01003_001E\", \"B01002_001E\",\n",
    "                          \"B19301_001E\",\n",
    "                          \"B17001_002E\",\n",
    "                          \"B23025_005E\"), {'for': f'zip code tabulation area:'{ziploop}) #thanks troy\n",
    "median_income_url = \"https://api.census.gov/data/timeseries/poverty/saipe/variables/SAEMHI_PT.json\""
   ]
  },
  {
   "cell_type": "code",
   "execution_count": 73,
   "metadata": {},
   "outputs": [],
   "source": [
    "geocode_base_url = f\"https://geocoding.geo.census.gov/geocoder/locations/onelineaddress?zip={zipcode}&benchmark=9&format=json\""
   ]
  },
  {
   "cell_type": "code",
   "execution_count": 74,
   "metadata": {},
   "outputs": [
    {
     "data": {
      "text/plain": [
       "<Response [400]>"
      ]
     },
     "execution_count": 74,
     "metadata": {},
     "output_type": "execute_result"
    }
   ],
   "source": [
    "requests.get(geocode_base_url)"
   ]
  },
  {
   "cell_type": "code",
   "execution_count": 77,
   "metadata": {},
   "outputs": [],
   "source": [
    "place_url = f\"https://api.census.gov/data/2013/acs/acs1?get=NAME,B00001_001E&for=combined%20statistical%20area:*&key={Census_api_key}\"\n",
    "place_response = requests.get(place_url)\n",
    "# pdx_response = place_response[\"Portland-Vancouver-Salem, OR-WA CSA\",\"45148\",\"440\"]"
   ]
  },
  {
   "cell_type": "code",
   "execution_count": 81,
   "metadata": {},
   "outputs": [
    {
     "data": {
      "text/plain": [
       "<Response [200]>"
      ]
     },
     "execution_count": 81,
     "metadata": {},
     "output_type": "execute_result"
    }
   ],
   "source": [
    "place_response"
   ]
  },
  {
   "cell_type": "code",
   "execution_count": null,
   "metadata": {},
   "outputs": [],
   "source": [
    "print(json.dumps)"
   ]
  },
  {
   "cell_type": "code",
   "execution_count": 82,
   "metadata": {},
   "outputs": [
    {
     "name": "stdout",
     "output_type": "stream",
     "text": [
      "{\"name\": \"SAEMHI_PT\", \"label\": \"Median Household Income Estimate\", \"group\": \"N/A\", \"limit\": 0}\n"
     ]
    }
   ],
   "source": [
    "response = requests.get(median_income_url).json()\n",
    "print(json.dumps(response))"
   ]
  },
  {
   "cell_type": "code",
   "execution_count": 79,
   "metadata": {},
   "outputs": [],
   "source": [
    "median_inc = []"
   ]
  },
  {
   "cell_type": "code",
   "execution_count": 80,
   "metadata": {},
   "outputs": [
    {
     "ename": "SyntaxError",
     "evalue": "invalid syntax (<ipython-input-80-9712763ccc8f>, line 1)",
     "output_type": "error",
     "traceback": [
      "\u001b[0;36m  File \u001b[0;32m\"<ipython-input-80-9712763ccc8f>\"\u001b[0;36m, line \u001b[0;32m1\u001b[0m\n\u001b[0;31m    for z in zipcode\u001b[0m\n\u001b[0m                    ^\u001b[0m\n\u001b[0;31mSyntaxError\u001b[0m\u001b[0;31m:\u001b[0m invalid syntax\n"
     ]
    }
   ],
   "source": [
    "for z in zipcode\n",
    "    median_inc.append(response#travers the JSON[\"\"]{z})"
   ]
  },
  {
   "cell_type": "code",
   "execution_count": null,
   "metadata": {},
   "outputs": [],
   "source": []
  }
 ],
 "metadata": {
  "kernelspec": {
   "display_name": "Python 3",
   "language": "python",
   "name": "python3"
  },
  "language_info": {
   "codemirror_mode": {
    "name": "ipython",
    "version": 3
   },
   "file_extension": ".py",
   "mimetype": "text/x-python",
   "name": "python",
   "nbconvert_exporter": "python",
   "pygments_lexer": "ipython3",
   "version": "3.6.10"
  }
 },
 "nbformat": 4,
 "nbformat_minor": 4
}
