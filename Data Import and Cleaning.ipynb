{
 "cells": [
  {
   "cell_type": "code",
   "execution_count": null,
   "metadata": {},
   "outputs": [],
   "source": [
    "from pandana.loaders import osm\n",
    "import folium, requests, json\n",
    "import pandas as pd\n",
    "from config import census_key, gkey\n",
    "from census import Census"
   ]
  },
  {
   "cell_type": "markdown",
   "metadata": {},
   "source": [
    "# Building and cleaning neighborhood dataframe"
   ]
  },
  {
   "cell_type": "code",
   "execution_count": null,
   "metadata": {},
   "outputs": [],
   "source": [
    "df = pd.read_csv('CSVs/Neighborhoods__Regions_ (1).csv')"
   ]
  },
  {
   "cell_type": "code",
   "execution_count": null,
   "metadata": {},
   "outputs": [],
   "source": [
    "df"
   ]
  },
  {
   "cell_type": "code",
   "execution_count": null,
   "metadata": {},
   "outputs": [],
   "source": [
    "url = 'https://opendata.arcgis.com/datasets/9f50a605cf4945259b983fa35c993fe9_125.geojson'\n",
    "geo = requests.get(url).json()\n",
    "print(json.dumps(geo, indent=4))"
   ]
  },
  {
   "cell_type": "code",
   "execution_count": null,
   "metadata": {},
   "outputs": [],
   "source": [
    "names = []\n",
    "lats = []\n",
    "lngs = []\n",
    "for i in geo['features']:\n",
    "    names.append(i['properties']['NAME'])\n",
    "    lats.append(i['geometry']['coordinates'][0][0][1])\n",
    "    lngs.append(i['geometry']['coordinates'][0][0][0])\n",
    "query_df = pd.DataFrame()\n",
    "query_df['name'] = names\n",
    "query_df['lat'] = lats\n",
    "query_df['lng'] = lngs\n",
    "\n",
    "pd.set_option('display.max_rows',None)\n",
    "query_df = query_df.loc[query_df['name'] != 'MC UNCLAIMED #13', :]\n",
    "query_df = query_df.loc[query_df['name'] != 'CRESTWOOD', :]\n"
   ]
  },
  {
   "cell_type": "code",
   "execution_count": null,
   "metadata": {},
   "outputs": [],
   "source": [
    "maps_base_url = 'https://maps.googleapis.com/maps/api/geocode/json?'\n",
    "zipcodes = []\n",
    "for index, row in query_df.iterrows():\n",
    "    lat = row.lat\n",
    "    lng = row.lng\n",
    "    name = row.name\n",
    "    \n",
    "    response = requests.get(f\"{maps_base_url}latlng={lat},{lng}&key={gkey}\").json()\n",
    "    \n",
    "    if response['results'][0]['address_components'][-1]['types'][0] == 'postal_code':\n",
    "        zipcodes.append(response['results'][0]['address_components'][-1]['long_name'])\n",
    "    elif response['results'][0]['address_components'][-2]['types'][0] == 'postal_code':\n",
    "        zipcodes.append(response['results'][0]['address_components'][-2]['long_name'])\n",
    "    else:\n",
    "        zipcodes.append(response['results'][0]['address_components'][-3]['long_name'])\n",
    "\n"
   ]
  },
  {
   "cell_type": "code",
   "execution_count": null,
   "metadata": {},
   "outputs": [],
   "source": [
    "query_df['Zipcode'] = zipcodes\n",
    "query_df = query_df.loc[query_df['Zipcode'] != 'Multnomah County', :]\n",
    "query_df['name'] = [i.title() for i in query_df['name']]"
   ]
  },
  {
   "cell_type": "code",
   "execution_count": null,
   "metadata": {},
   "outputs": [],
   "source": [
    "query_df.iloc[4,0] = 'Cully'\n",
    "query_df.iloc[9,0] = 'Sumner'\n",
    "query_df.iloc[15,0] = 'Parkrose'\n",
    "query_df.iloc[24,0] = 'Old Town Chinatown'\n",
    "query_df.iloc[26,0] = 'Buckman'\n",
    "query_df.iloc[33,0] = 'Brooklyn'\n",
    "query_df.iloc[38,0] = 'Sellwood-Moreland'\n",
    "query_df.iloc[56,0] = 'Southwest Hills'\n",
    "query_df.iloc[64,0] = 'Centennial'\n",
    "query_df.iloc[69,0] = 'Wilkes'\n",
    "query_df.iloc[76,0] = 'Irvington'\n",
    "query_df.iloc[77,0] = 'Sabin'\n",
    "query_df.iloc[82,0] = 'Lloyd District'\n",
    "query_df.iloc[83,0] = 'Goose Hollow'\n",
    "query_df.iloc[86,0] = 'Hosford-Abernathy'\n",
    "query_df.iloc[90,0] = 'Northwest District'\n",
    "\n",
    "query_df"
   ]
  },
  {
   "cell_type": "markdown",
   "metadata": {},
   "source": [
    "# Building and cleaning walk score dataframe"
   ]
  },
  {
   "cell_type": "code",
   "execution_count": null,
   "metadata": {},
   "outputs": [],
   "source": [
    "walkscore_df = pd.read_csv('CSVs/PDX_Neighborhood_Walkability.csv')"
   ]
  },
  {
   "cell_type": "code",
   "execution_count": null,
   "metadata": {},
   "outputs": [],
   "source": [
    "walkscore_df"
   ]
  },
  {
   "cell_type": "code",
   "execution_count": null,
   "metadata": {},
   "outputs": [],
   "source": [
    "merged_df = query_df.merge(walkscore_df, left_on='name', right_on='Name')"
   ]
  },
  {
   "cell_type": "code",
   "execution_count": null,
   "metadata": {},
   "outputs": [],
   "source": [
    "merged_df.drop(columns=['Rank', 'Name', 'Transit Score', 'Bike Score', 'Population'], inplace=True)"
   ]
  },
  {
   "cell_type": "code",
   "execution_count": null,
   "metadata": {},
   "outputs": [],
   "source": [
    "merged_df"
   ]
  },
  {
   "cell_type": "markdown",
   "metadata": {},
   "source": [
    "# 2012 Census data call"
   ]
  },
  {
   "cell_type": "code",
   "execution_count": null,
   "metadata": {},
   "outputs": [],
   "source": [
    "c = Census(census_key, year=2012)\n",
    "median_incomes = []\n",
    "pops = []\n",
    "white_pop = []\n",
    "nonwhite_pop = []\n",
    "\n",
    "for i in merged_df['Zipcode']:\n",
    "\n",
    "    census_data = c.acs5.get((\"NAME\", 'B01003_001E','B02001_002E', 'B06011_001E',\n",
    "                             ), {'for': f'zip code tabulation area:{i}'})\n",
    "    pops.append(census_data[0]['B01003_001E'])\n",
    "    white_pop.append(census_data[0]['B02001_002E'])\n",
    "    nonwhite_pop.append(census_data[0]['B01003_001E'] - census_data[0]['B02001_002E'])\n",
    "    median_incomes.append(census_data[0]['B06011_001E'])\n",
    "census_data"
   ]
  },
  {
   "cell_type": "code",
   "execution_count": null,
   "metadata": {},
   "outputs": [],
   "source": [
    "merged_df['Median Income 2012'] = median_incomes\n",
    "merged_df['Population 2012'] = pops\n",
    "merged_df['Non-White Population 2012'] = nonwhite_pop\n",
    "merged_df['% Non-White 2012'] = (merged_df['Non-White Population 2012']/merged_df['Population 2012'] * 100)"
   ]
  },
  {
   "cell_type": "code",
   "execution_count": null,
   "metadata": {},
   "outputs": [],
   "source": [
    "merged_df"
   ]
  },
  {
   "cell_type": "markdown",
   "metadata": {},
   "source": [
    "# 2018 Census data call"
   ]
  },
  {
   "cell_type": "code",
   "execution_count": null,
   "metadata": {},
   "outputs": [],
   "source": [
    "c = Census(census_key, year=2018)\n",
    "median_incomes = []\n",
    "pops = []\n",
    "white_pop = []\n",
    "nonwhite_pop = []\n",
    "\n",
    "for i in merged_df['Zipcode']:\n",
    "\n",
    "    census_data = c.acs5.get((\"NAME\", 'B01003_001E','B02001_002E', 'B06011_001E',\n",
    "                             ), {'for': f'zip code tabulation area:{i}'})\n",
    "    pops.append(census_data[0]['B01003_001E'])\n",
    "    white_pop.append(census_data[0]['B02001_002E'])\n",
    "    nonwhite_pop.append(census_data[0]['B01003_001E'] - census_data[0]['B02001_002E'])\n",
    "    median_incomes.append(census_data[0]['B06011_001E'])\n",
    "census_data"
   ]
  },
  {
   "cell_type": "code",
   "execution_count": null,
   "metadata": {},
   "outputs": [],
   "source": [
    "merged_df['Median Income 2018'] = median_incomes\n",
    "merged_df['Population 2018'] = pops\n",
    "merged_df['Non-White Population 2018'] = nonwhite_pop\n",
    "merged_df['% Non-White 2018'] = (merged_df['Non-White Population 2018']/merged_df['Population 2018'] * 100)"
   ]
  },
  {
   "cell_type": "code",
   "execution_count": null,
   "metadata": {},
   "outputs": [],
   "source": [
    "zips_group = merged_df.groupby('Zipcode')\n",
    "zipcode_df = pd.DataFrame(zips_group.mean())\n",
    "zipcode_df"
   ]
  },
  {
   "cell_type": "code",
   "execution_count": null,
   "metadata": {},
   "outputs": [],
   "source": [
    "zipcode_df.to_csv('CSVs/census_walkscore_by_zip.csv')"
   ]
  }
 ],
 "metadata": {
  "kernelspec": {
   "display_name": "Python 3",
   "language": "python",
   "name": "python3"
  },
  "language_info": {
   "codemirror_mode": {
    "name": "ipython",
    "version": 3
   },
   "file_extension": ".py",
   "mimetype": "text/x-python",
   "name": "python",
   "nbconvert_exporter": "python",
   "pygments_lexer": "ipython3",
   "version": "3.6.10"
  }
 },
 "nbformat": 4,
 "nbformat_minor": 4
}
