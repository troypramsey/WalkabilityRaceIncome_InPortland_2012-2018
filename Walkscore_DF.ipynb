{
 "cells": [
  {
   "cell_type": "code",
   "execution_count": 6,
   "metadata": {},
   "outputs": [],
   "source": [
    "import pandas as pd\n",
    "import numpy as np\n",
    "import matplotlib.pyplot as plt\n"
   ]
  },
  {
   "cell_type": "code",
   "execution_count": 7,
   "metadata": {},
   "outputs": [],
   "source": [
    "walkability_df = pd.read_csv(\"PDX_Neighborhood_Walkability.csv\",sep=\",\")"
   ]
  },
  {
   "cell_type": "code",
   "execution_count": 8,
   "metadata": {},
   "outputs": [
    {
     "data": {
      "text/html": [
       "<div>\n",
       "<style scoped>\n",
       "    .dataframe tbody tr th:only-of-type {\n",
       "        vertical-align: middle;\n",
       "    }\n",
       "\n",
       "    .dataframe tbody tr th {\n",
       "        vertical-align: top;\n",
       "    }\n",
       "\n",
       "    .dataframe thead th {\n",
       "        text-align: right;\n",
       "    }\n",
       "</style>\n",
       "<table border=\"1\" class=\"dataframe\">\n",
       "  <thead>\n",
       "    <tr style=\"text-align: right;\">\n",
       "      <th></th>\n",
       "      <th>Rank</th>\n",
       "      <th>Name</th>\n",
       "      <th>Walk Score</th>\n",
       "      <th>Transit Score</th>\n",
       "      <th>Bike Score</th>\n",
       "      <th>Population</th>\n",
       "    </tr>\n",
       "  </thead>\n",
       "  <tbody>\n",
       "    <tr>\n",
       "      <th>0</th>\n",
       "      <td>1</td>\n",
       "      <td>Pearl</td>\n",
       "      <td>97</td>\n",
       "      <td>89</td>\n",
       "      <td>98</td>\n",
       "      <td>5,989</td>\n",
       "    </tr>\n",
       "    <tr>\n",
       "      <th>1</th>\n",
       "      <td>2</td>\n",
       "      <td>Old Town Chinatown</td>\n",
       "      <td>97</td>\n",
       "      <td>95</td>\n",
       "      <td>97</td>\n",
       "      <td>3,873</td>\n",
       "    </tr>\n",
       "    <tr>\n",
       "      <th>2</th>\n",
       "      <td>3</td>\n",
       "      <td>Downtown</td>\n",
       "      <td>96</td>\n",
       "      <td>94</td>\n",
       "      <td>90</td>\n",
       "      <td>12,803</td>\n",
       "    </tr>\n",
       "    <tr>\n",
       "      <th>3</th>\n",
       "      <td>4</td>\n",
       "      <td>Hollywood</td>\n",
       "      <td>94</td>\n",
       "      <td>70</td>\n",
       "      <td>94</td>\n",
       "      <td>1,274</td>\n",
       "    </tr>\n",
       "    <tr>\n",
       "      <th>4</th>\n",
       "      <td>5</td>\n",
       "      <td>Goose Hollow</td>\n",
       "      <td>93</td>\n",
       "      <td>84</td>\n",
       "      <td>80</td>\n",
       "      <td>5,825</td>\n",
       "    </tr>\n",
       "    <tr>\n",
       "      <th>...</th>\n",
       "      <td>...</td>\n",
       "      <td>...</td>\n",
       "      <td>...</td>\n",
       "      <td>...</td>\n",
       "      <td>...</td>\n",
       "      <td>...</td>\n",
       "    </tr>\n",
       "    <tr>\n",
       "      <th>84</th>\n",
       "      <td>85</td>\n",
       "      <td>Sylvan-Highlands</td>\n",
       "      <td>18</td>\n",
       "      <td>44</td>\n",
       "      <td>35</td>\n",
       "      <td>1,290</td>\n",
       "    </tr>\n",
       "    <tr>\n",
       "      <th>85</th>\n",
       "      <td>86</td>\n",
       "      <td>East Columbia</td>\n",
       "      <td>16</td>\n",
       "      <td>32</td>\n",
       "      <td>51</td>\n",
       "      <td>1,858</td>\n",
       "    </tr>\n",
       "    <tr>\n",
       "      <th>86</th>\n",
       "      <td>87</td>\n",
       "      <td>Northwest Heights</td>\n",
       "      <td>12</td>\n",
       "      <td>7</td>\n",
       "      <td>28</td>\n",
       "      <td>5,495</td>\n",
       "    </tr>\n",
       "    <tr>\n",
       "      <th>87</th>\n",
       "      <td>88</td>\n",
       "      <td>Sunderland</td>\n",
       "      <td>10</td>\n",
       "      <td>33</td>\n",
       "      <td>48</td>\n",
       "      <td>703</td>\n",
       "    </tr>\n",
       "    <tr>\n",
       "      <th>88</th>\n",
       "      <td>89</td>\n",
       "      <td>Linnton</td>\n",
       "      <td>5</td>\n",
       "      <td>21</td>\n",
       "      <td>21</td>\n",
       "      <td>935</td>\n",
       "    </tr>\n",
       "  </tbody>\n",
       "</table>\n",
       "<p>89 rows × 6 columns</p>\n",
       "</div>"
      ],
      "text/plain": [
       "    Rank                Name  Walk Score  Transit Score  Bike Score Population\n",
       "0      1               Pearl          97             89          98      5,989\n",
       "1      2  Old Town Chinatown          97             95          97      3,873\n",
       "2      3            Downtown          96             94          90     12,803\n",
       "3      4           Hollywood          94             70          94      1,274\n",
       "4      5        Goose Hollow          93             84          80      5,825\n",
       "..   ...                 ...         ...            ...         ...        ...\n",
       "84    85    Sylvan-Highlands          18             44          35      1,290\n",
       "85    86       East Columbia          16             32          51      1,858\n",
       "86    87   Northwest Heights          12              7          28      5,495\n",
       "87    88          Sunderland          10             33          48        703\n",
       "88    89             Linnton           5             21          21        935\n",
       "\n",
       "[89 rows x 6 columns]"
      ]
     },
     "execution_count": 8,
     "metadata": {},
     "output_type": "execute_result"
    }
   ],
   "source": [
    "walkability_df"
   ]
  },
  {
   "cell_type": "code",
   "execution_count": 10,
   "metadata": {},
   "outputs": [],
   "source": [
    "x = walkability_df[\"Name\"]\n",
    "y = walkability_df[\"Walk Score\"]"
   ]
  },
  {
   "cell_type": "code",
   "execution_count": 12,
   "metadata": {},
   "outputs": [
    {
     "data": {
      "text/plain": [
       "<BarContainer object of 89 artists>"
      ]
     },
     "execution_count": 12,
     "metadata": {},
     "output_type": "execute_result"
    },
    {
     "data": {
      "image/png": "[encoded data removed]",
      "text/plain": [
       "<Figure size 432x288 with 1 Axes>"
      ]
     },
     "metadata": {
      "needs_background": "light"
     },
     "output_type": "display_data"
    }
   ],
   "source": [
    "plt.bar(x,y)"
   ]
  },
  {
   "cell_type": "code",
   "execution_count": null,
   "metadata": {},
   "outputs": [],
   "source": []
  }
 ],
 "metadata": {
  "kernelspec": {
   "display_name": "Python 3",
   "language": "python",
   "name": "python3"
  },
  "language_info": {
   "codemirror_mode": {
    "name": "ipython",
    "version": 3
   },
   "file_extension": ".py",
   "mimetype": "text/x-python",
   "name": "python",
   "nbconvert_exporter": "python",
   "pygments_lexer": "ipython3",
   "version": "3.7.6"
  }
 },
 "nbformat": 4,
 "nbformat_minor": 4
}
